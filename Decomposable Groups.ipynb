{
 "cells": [
  {
   "cell_type": "code",
   "execution_count": 1,
   "metadata": {},
   "outputs": [],
   "source": [
    "\"\"\"For altering memory usage\"\"\"\n",
    "from sage.interfaces.gap import get_gap_memory_pool_size, set_gap_memory_pool_size\n",
    "n = get_gap_memory_pool_size()\n",
    "set_gap_memory_pool_size(200*n)\n",
    "n = get_gap_memory_pool_size()"
   ]
  },
  {
   "cell_type": "code",
   "execution_count": 23,
   "metadata": {},
   "outputs": [],
   "source": [
    "\"\"\"Groups shortcuts\n",
    "Cyclic groups definition C[x].\"\"\"\n",
    "C = [CyclicPermutationGroup(1),CyclicPermutationGroup(1)]\n",
    "for i in range(30):\n",
    "     C.append(CyclicPermutationGroup(i+2))\n",
    "\n",
    "\"\"\"Alternating group definition A[x].\"\"\"\n",
    "A = [AlternatingGroup(4), AlternatingGroup(4), AlternatingGroup(4), AlternatingGroup(4)]\n",
    "for i in range(15):\n",
    "     A.append(AlternatingGroup(i+4))\n",
    "\n",
    "\"\"\"List of indices of small groups by GAP library: [x,y].\"\"\"\n",
    "small = []\n",
    "for i in range(1,100):\n",
    "    if i+1 not in [128,192]:\n",
    "        small += gap.IdsOfAllSmallGroups(i+1)\n",
    "# small += gap.IdsOfAllSmallGroups(96)"
   ]
  },
  {
   "cell_type": "code",
   "execution_count": 1,
   "metadata": {},
   "outputs": [],
   "source": [
    "\"\"\"Function to return list of class sizes in default order.\"\"\"\n",
    "def class_sizes(G):\n",
    "    group_order = G.order()\n",
    "    reps = G.conjugacy_classes_representatives()\n",
    "    class_sizes = []\n",
    "    for g in reps:\n",
    "        class_sizes.append(group_order / G.centralizer(g).order())\n",
    "    return class_sizes"
   ]
  },
  {
   "cell_type": "code",
   "execution_count": 2,
   "metadata": {},
   "outputs": [],
   "source": [
    "\"\"\"Function to find all subgroups. Returns list of subgroups, up to conjugacy.\"\"\"\n",
    "def subgroups(G):\n",
    "    subgroups = G.conjugacy_classes_subgroups()\n",
    "    return subgroups"
   ]
  },
  {
   "cell_type": "code",
   "execution_count": 3,
   "metadata": {
    "scrolled": true
   },
   "outputs": [],
   "source": [
    "\"\"\"Function to find induced trivial character of each subgroup. Returns a list of induced trivial characters of subgroups.\"\"\"\n",
    "def get_induced(subgroups, G):\n",
    "    ind = []\n",
    "    for subgroup in subgroups:\n",
    "        ind.append(subgroup.trivial_character().induct(G))\n",
    "    return ind"
   ]
  },
  {
   "cell_type": "code",
   "execution_count": 4,
   "metadata": {},
   "outputs": [],
   "source": [
    "\"\"\"Forms the matrices that we use to solve the simultaneous equation later. \n",
    "matrix[1:-1]: Excludes the first and last subgroup (trivial subgroup and the group itself), and the first column.\n",
    "checkmat[1:-1] Used for checking value at identity\"\"\"\n",
    "def mat(induced):\n",
    "    matrix = []\n",
    "    checkmat = []\n",
    "    for char in induced:\n",
    "        matrix.append(list(char.values())[1:])\n",
    "        checkmat.append(list(char.values())[0])\n",
    "#    for line in matrix:\n",
    "#        print(line)\n",
    "    return matrix[1:-1], checkmat[1:-1]"
   ]
  },
  {
   "cell_type": "code",
   "execution_count": 5,
   "metadata": {},
   "outputs": [],
   "source": [
    "\"\"\"Test if there exists non-negative solutions. Prints the id of group that works and the ci, prints fail otherwise.\"\"\"\n",
    "def test(G):\n",
    "    a = class_sizes(G)\n",
    "    b = subgroups(G)\n",
    "    c = get_induced(b, G)\n",
    "    d, iden = mat(c)\n",
    "    e = Matrix(d).T\n",
    "    temp = []\n",
    "    for i in range(len(a)-1):\n",
    "        temp.append(1)\n",
    "    Y = vector(temp)\n",
    "    p = MixedIntegerLinearProgram(solver='GLPK')\n",
    "    w = p.new_variable(nonnegative=True)\n",
    "    p.add_constraint(e*w == Y)\n",
    "    try:\n",
    "        p.solve()\n",
    "        out = []\n",
    "        check = []\n",
    "        for i, v in (p.get_values(w).items()):\n",
    "            out.append('w_%s = %s' % (i, v))\n",
    "            check.append(v)\n",
    "            \"\"\"Prints subgroup and subgroup order.\"\"\"\n",
    "            if round(v,6) != 0:\n",
    "                print(b[i+1].order())\n",
    "        \"\"\"Check if identity is larger than others.\"\"\"\n",
    "        x = 0\n",
    "        for i in range(len(iden)):\n",
    "            x += int(iden[i])*float(check[i])\n",
    "        \"\"\"Run one of the two options below: Rational, Integer:\n",
    "        Checks for Rational Solutions\"\"\"\n",
    "        if x > 1:\n",
    "            print(x)\n",
    "            print(out)\n",
    "            print(str(gap.IdSmallGroup(G)[1]) + \",\" + str(gap.IdSmallGroup(G)[2]))\n",
    "        else:\n",
    "            print(\"The value identity is equals to the rest:\" + gap.IdSmallGroup(G))\n",
    "        \"\"\"Checks for Integer Solutions\"\"\"\n",
    "#         if x > 1:\n",
    "#             n = G.order()\n",
    "#             mult = n/(x-1)\n",
    "#             print(mult)\n",
    "#             inte = True\n",
    "#             for num in test:\n",
    "#                 if round(mult*num - round(mult*num),6) > 0 or round(mult*num - round(mult*num),6) < 0:\n",
    "#                     inte = False\n",
    "#             if inte == True:\n",
    "#                 print(gap.IdSmallGroup(G))\n",
    "#         else:\n",
    "#             print(\"The value identity is equals to the rest:\" + gap.IdSmallGroup(G))\n",
    "    except:\n",
    "        print('fail')"
   ]
  },
  {
   "cell_type": "code",
   "execution_count": 6,
   "metadata": {
    "scrolled": true
   },
   "outputs": [
    {
     "name": "stdout",
     "output_type": "stream",
     "text": [
      "2.0\n",
      "[ 12, 4 ]\n"
     ]
    }
   ],
   "source": [
    "\"\"\"Main function\"\"\"\n",
    "if __name__ == \"__main__\":\n",
    "    \"\"\"If group is in id form.\n",
    "    https://www.gap-system.org/Manuals/pkg/SmallGrp-1.3/doc/chap1.html\n",
    "    This works on CoCalc/non-windows system with gap_packages library installed.\"\"\"\n",
    "#     groups = small\n",
    "#     for groupid in groups:\n",
    "#         G = gap.SmallGroup(groupid)\n",
    "#         #test(PermutationGroup(gap_group = G.AsPermGroup()))\n",
    "#         try:\n",
    "#             test(PermutationGroup(gap_group = G.AsPermGroup()))\n",
    "#         except:\n",
    "#             pass\n",
    "    \"\"\"If group is in SAGE form.\n",
    "    https://doc.sagemath.org/html/en/thematic_tutorials/group_theory.html#groups-of-small-order-as-permutation-groups\"\"\"\n",
    "    D1 = CyclicPermutationGroup(2)\n",
    "    D2 = CyclicPermutationGroup(2)\n",
    "    G = direct_product_permgroups([D1,D2])\n",
    "    groups = [DihedralGroup(6)]\n",
    "    for group in groups:\n",
    "        try:\n",
    "            test(group)\n",
    "        except:\n",
    "            pass\n",
    "        \n",
    "    \"\"\"Extra: Count subgroups.\"\"\"\n",
    "#     D1 = CyclicPermutationGroup(3)\n",
    "#     groups = [direct_product_permgroups([D1,D1,D1,D1])]\n",
    "#     for group in groups:\n",
    "#         a = group.subgroups()\n",
    "#         count = 0\n",
    "#         for group in a:\n",
    "#             if group.order() == 27:\n",
    "#                 count += 1\n",
    "#         print(count)"
   ]
  },
  {
   "cell_type": "code",
   "execution_count": 0,
   "metadata": {},
   "outputs": [],
   "source": []
  },
  {
   "cell_type": "code",
   "execution_count": 0,
   "metadata": {},
   "outputs": [],
   "source": []
  },
  {
   "cell_type": "code",
   "execution_count": 0,
   "metadata": {},
   "outputs": [],
   "source": []
  },
  {
   "cell_type": "code",
   "execution_count": 0,
   "metadata": {},
   "outputs": [],
   "source": []
  },
  {
   "cell_type": "code",
   "execution_count": 0,
   "metadata": {},
   "outputs": [],
   "source": []
  },
  {
   "cell_type": "code",
   "execution_count": 0,
   "metadata": {},
   "outputs": [],
   "source": []
  }
 ],
 "metadata": {
  "kernelspec": {
   "display_name": "SageMath 9.0",
   "language": "sage",
   "name": "sagemath"
  },
  "language_info": {
   "codemirror_mode": {
    "name": "ipython",
    "version": 3
   },
   "file_extension": ".py",
   "mimetype": "text/x-python",
   "name": "python",
   "nbconvert_exporter": "python",
   "pygments_lexer": "ipython3",
   "version": "3.7.3"
  }
 },
 "nbformat": 4,
 "nbformat_minor": 4
}
