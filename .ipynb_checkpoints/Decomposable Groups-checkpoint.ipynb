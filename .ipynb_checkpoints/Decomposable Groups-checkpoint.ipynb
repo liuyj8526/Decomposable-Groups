{
 "cells": [
  {
   "cell_type": "code",
   "execution_count": 1,
   "metadata": {},
   "outputs": [],
   "source": [
    "\"\"\"For altering memory usage\"\"\"\n",
    "from sage.interfaces.gap import get_gap_memory_pool_size, set_gap_memory_pool_size\n",
    "n = get_gap_memory_pool_size()\n",
    "set_gap_memory_pool_size(200*n)\n",
    "n = get_gap_memory_pool_size()"
   ]
  },
  {
   "cell_type": "code",
   "execution_count": 23,
   "metadata": {},
   "outputs": [],
   "source": [
    "\"\"\"List of indices of small groups by GAP library: [x,y].\"\"\"\n",
    "small = []\n",
    "for i in range(191,300):\n",
    "    if len(gap.IdsOfAllSmallGroups(i+1)) < 150:\n",
    "        small += gap.IdsOfAllSmallGroups(i+1)\n",
    "    else:\n",
    "        print(i+1)\n",
    "# small += gap.IdsOfAllSmallGroups(96)"
   ]
  },
  {
   "cell_type": "code",
   "execution_count": null,
   "metadata": {},
   "outputs": [],
   "source": [
    "\"\"\"For original problem with only trivial character.\"\"\"\n",
    "class induce():\n",
    "    \"\"\"Function to return list of class sizes in default order.\"\"\"\n",
    "    def __init__(self):\n",
    "        pass\n",
    "\n",
    "    \"\"\"Returns class sizes up to conjugacy\"\"\"\n",
    "    def class_sizes(self, G):\n",
    "        group_order = G.order()\n",
    "        reps = G.conjugacy_classes_representatives()\n",
    "        class_sizes = []\n",
    "        for g in reps:\n",
    "            class_sizes.append(group_order / G.centralizer(g).order())\n",
    "#         print(class_sizes)\n",
    "        return class_sizes\n",
    "\n",
    "    \"\"\"Function to find all subgroups. Returns list of subgroups.\"\"\"\n",
    "    def subgroups(self, G):\n",
    "        subgroups = G.conjugacy_classes_subgroups()\n",
    "#         print(subgroups)\n",
    "        return subgroups\n",
    "\n",
    "    \"\"\"Function to find induced trivial character of each subgroup. Returns a list of lists.\"\"\"\n",
    "    def get_induced(self, subgroups, G):\n",
    "        ind = []\n",
    "        for subgroup in subgroups:\n",
    "            ind.append(subgroup.trivial_character().induct(G))\n",
    "#         print(ind)\n",
    "        return ind\n",
    "\n",
    "    \"\"\"Forms the matrices that we use to solve the simultaneous equation later. \n",
    "    matrix[1:-1]: Excludes the first and last subgroup (trivial subgroup and the group itself), and the first column.\n",
    "    checkmat[1:-1] Used for checking value at identity\"\"\"\n",
    "    def mat(self, induced):\n",
    "        matrix = []\n",
    "        for char in induced:\n",
    "            matrix.append(list(char.values()))\n",
    "        neg = []\n",
    "        for i in range(len(matrix[0])):\n",
    "            neg.append(-1)\n",
    "        matrix[-1] = neg\n",
    "#         for line in matrix:\n",
    "#             print(line)\n",
    "        return matrix[1:]\n",
    "\n",
    "    \"\"\"Test if there exists non-negative solutions. Prints the id of group that works and the ci, prints fail otherwise.\"\"\"\n",
    "    def test(self, G):\n",
    "        a = self.class_sizes(G)\n",
    "        b = self.subgroups(G)\n",
    "        c = self.get_induced(b, G)\n",
    "        d = self.mat(c)\n",
    "        e = Matrix(d).T\n",
    "        temp = []\n",
    "        temp.append(G.order())\n",
    "        for i in range(len(a)-1):\n",
    "            temp.append(0)\n",
    "        Y = vector(temp)\n",
    "        p = MixedIntegerLinearProgram(solver='GLPK')\n",
    "        w = p.new_variable(nonnegative=True)\n",
    "        p.add_constraint(e*w == Y)\n",
    "        try:\n",
    "            p.solve()\n",
    "#             out = []\n",
    "#             for i, v in (p.get_values(w).items()):\n",
    "#                 out.append('w_%s = %s' % (i, v))\n",
    "#                 \"\"\"Prints subgroup and subgroup order.\"\"\"\n",
    "#                 if round(v,6) != 0:\n",
    "#                     print(b[i+1].order())\n",
    "            \"\"\"Prints the solution and SmallGroup Id\"\"\"\n",
    "#             print(out)\n",
    "            print(str(gap.IdSmallGroup(G)[1]) + \",\" + str(gap.IdSmallGroup(G)[2]))\n",
    "        except:\n",
    "            pass\n",
    "#             print('fail')"
   ]
  },
  {
   "cell_type": "code",
   "execution_count": 6,
   "metadata": {
    "scrolled": true
   },
   "outputs": [
    {
     "name": "stdout",
     "output_type": "stream",
     "text": [
      "2.0\n",
      "[ 12, 4 ]\n"
     ]
    }
   ],
   "source": [
    "\"\"\"Main function\n",
    "If group is in id form.\n",
    "https://www.gap-system.org/Manuals/pkg/SmallGrp-1.3/doc/chap1.html\n",
    "This works on CoCalc/non-windows system with gap_packages library installed.\"\"\"\n",
    "if __name__ == \"__main__\":\n",
    "    inducer = induce()\n",
    "    groups = small\n",
    "    for groupid in groups:\n",
    "        G = gap.SmallGroup(groupid)\n",
    "        try:\n",
    "            inducer.test(PermutationGroup(gap_group = G.AsPermGroup()))\n",
    "        except:\n",
    "            pass\n",
    "    \"\"\"If group is in SAGE form.\n",
    "    https://doc.sagemath.org/html/en/thematic_tutorials/group_theory.html#groups-of-small-order-as-permutation-groups\"\"\"\n",
    "#     D1 = CyclicPermutationGroup(5)\n",
    "#     D2 = CyclicPermutationGroup(4)\n",
    "#     groups = [direct_product_permgroups([D1,D1,D1])]\n",
    "#     for group in groups:\n",
    "#         try:\n",
    "#             inducer.test(group)\n",
    "#         except:\n",
    "#             pass"
   ]
  },
  {
   "cell_type": "code",
   "execution_count": 0,
   "metadata": {},
   "outputs": [],
   "source": []
  },
  {
   "cell_type": "code",
   "execution_count": 0,
   "metadata": {},
   "outputs": [],
   "source": []
  },
  {
   "cell_type": "code",
   "execution_count": 0,
   "metadata": {},
   "outputs": [],
   "source": []
  },
  {
   "cell_type": "code",
   "execution_count": 0,
   "metadata": {},
   "outputs": [],
   "source": []
  },
  {
   "cell_type": "code",
   "execution_count": 0,
   "metadata": {},
   "outputs": [],
   "source": []
  },
  {
   "cell_type": "code",
   "execution_count": 0,
   "metadata": {},
   "outputs": [],
   "source": []
  }
 ],
 "metadata": {
  "kernelspec": {
   "display_name": "SageMath 9.0",
   "language": "sage",
   "name": "sagemath"
  },
  "language_info": {
   "codemirror_mode": {
    "name": "ipython",
    "version": 3
   },
   "file_extension": ".py",
   "mimetype": "text/x-python",
   "name": "python",
   "nbconvert_exporter": "python",
   "pygments_lexer": "ipython3",
   "version": "3.7.3"
  }
 },
 "nbformat": 4,
 "nbformat_minor": 4
}
