{
 "cells": [
  {
   "cell_type": "code",
   "execution_count": 242,
   "metadata": {},
   "outputs": [
    {
     "name": "stdout",
     "output_type": "stream",
     "text": [
      "[ (1)*<identity> of ...+(1)*f2+(1)*f2^2, (1)*<identity> of ...+(1)*f1*f2+(\n",
      "    1)*f1^2*f2^2, (1)*<identity> of ...+(1)*f1^2*f2+(1)*f1*f2^2, \n",
      "  (1)*<identity> of ...+(1)*f1+(1)*f3+(1)*f4+(1)*f1^2+(1)*f1*f3+(1)*f1*f4+(\n",
      "    1)*f3*f4+(1)*f1^2*f3+(1)*f1^2*f4+(1)*f1*f3*f4+(1)*f1^2*f3*f4 ]\n",
      "30\n"
     ]
    }
   ],
   "source": [
    "def repDecom(G,inp):\n",
    "#     \"\"\"Define the group here\"\"\"\n",
    "#     G = gap.SmallGroup([36,11])\n",
    "\n",
    "    \"\"\"Create the Group Ring and Embedding. All future references of elements of group algebra must call emb\"\"\"\n",
    "    R = gap.Rationals\n",
    "    GA = gap.GroupRing(R,G)\n",
    "    emb = gap.Embedding(G,GA)\n",
    "    elements = gap.Elements(G)\n",
    "    \n",
    "    \"\"\"Subgroups and the generators\"\"\"\n",
    "    cc = gap.ConjugacyClassesSubgroups(G)\n",
    "    # print(cc)\n",
    "    # for cl in cc:\n",
    "    #     print(gap.Order(cl[1]))\n",
    "\n",
    "#     inp = [0, 0, 0, 1, 1, 1, 0, 0, 0, 1, 0, 0, 0, 3]\n",
    "    subgroups = []\n",
    "    for num in range(len(inp)-1):\n",
    "        for index in range(inp[num]):\n",
    "            subgroups.append(gap.Elements(cc[num+1])[index+1])  \n",
    "\n",
    "    # subgroups = [gap.Representative(cc[2]), \n",
    "    #              gap.Elements(cc[2])[5],\n",
    "    #              gap.Representative(cc[7])]\n",
    "    gens = gap([])\n",
    "\n",
    "    for subgroup in subgroups:\n",
    "        sub_elems = gap.Elements(subgroup)\n",
    "        temp = sub_elems[1]^emb\n",
    "        for i in range(len(sub_elems)-1):\n",
    "            temp += sub_elems[i+2]^emb\n",
    "        gap.Add(gens, temp)\n",
    "    \n",
    "    \"\"\"Creating ideal and checking dimension\"\"\"\n",
    "    print(gens)\n",
    "    ideal = gap.LeftIdeal(GA,gens)\n",
    "    if gap.Dimension(ideal) == gap.Dimension(GA):\n",
    "        print(\"Is Rep Decomposable\")\n",
    "    print(gap.Dimension(ideal))\n",
    "    \n",
    "# repDecom(gap.SmallGroup([36,11]),[0, 0, 0, 1, 1, 1, 0, 0, 0, 1, 0, 0, 0, 3])"
   ]
  },
  {
   "cell_type": "code",
   "execution_count": null,
   "metadata": {},
   "outputs": [],
   "source": []
  }
 ],
 "metadata": {
  "kernelspec": {
   "display_name": "SageMath 9.0",
   "language": "sage",
   "name": "sagemath"
  },
  "language_info": {
   "codemirror_mode": {
    "name": "ipython",
    "version": 3
   },
   "file_extension": ".py",
   "mimetype": "text/x-python",
   "name": "python",
   "nbconvert_exporter": "python",
   "pygments_lexer": "ipython3",
   "version": "3.8.2"
  }
 },
 "nbformat": 4,
 "nbformat_minor": 2
}
