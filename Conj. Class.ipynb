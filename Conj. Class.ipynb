{
 "cells": [
  {
   "cell_type": "code",
   "execution_count": 11,
   "metadata": {},
   "outputs": [],
   "source": [
    "\"\"\"Groups shortcuts\n",
    "Cyclic groups definition C[x].\"\"\"\n",
    "C = [CyclicPermutationGroup(1),CyclicPermutationGroup(1)]\n",
    "for i in range(30):\n",
    "     C.append(CyclicPermutationGroup(i+2))\n",
    "\n",
    "\"\"\"Alternating group definition A[x].\"\"\"\n",
    "A = [AlternatingGroup(4), AlternatingGroup(4), AlternatingGroup(4), AlternatingGroup(4)]\n",
    "for i in range(15):\n",
    "     A.append(AlternatingGroup(i+4))\n",
    "\n",
    "\"\"\"List of indices of small groups by GAP library: [x,y].\"\"\"\n",
    "small = []\n",
    "for i in range(1,100):\n",
    "    if i+1 not in [128,192]:\n",
    "        small += gap.IdsOfAllSmallGroups(i+1)\n",
    "# small += gap.IdsOfAllSmallGroups(96)"
   ]
  },
  {
   "cell_type": "code",
   "execution_count": 1,
   "metadata": {},
   "outputs": [],
   "source": [
    "\"\"\"Function to return list of class sizes in default order.\"\"\"\n",
    "def class_sizes(G):\n",
    "    reps = G.conjugacy_classes()\n",
    "    return reps"
   ]
  },
  {
   "cell_type": "code",
   "execution_count": 2,
   "metadata": {},
   "outputs": [],
   "source": [
    "\"\"\"Function to find all subgroups. Returns list of subgroups up to conjugacy class.\"\"\"\n",
    "def subgroups(G):\n",
    "    subgroups = G.conjugacy_classes_subgroups()\n",
    "    return subgroups"
   ]
  },
  {
   "cell_type": "code",
   "execution_count": 3,
   "metadata": {},
   "outputs": [],
   "source": [
    "\"\"\"Find the intersection of the conjugacy class and subgroups.\"\"\"\n",
    "def findint(conj, H):\n",
    "    count = 0\n",
    "    for ele in conj:\n",
    "        if ele in H:\n",
    "            count += 1\n",
    "    return count"
   ]
  },
  {
   "cell_type": "code",
   "execution_count": 14,
   "metadata": {},
   "outputs": [],
   "source": [
    "\"\"\"Find the quotient of subgroup with intersection\"\"\"\n",
    "def test(G):\n",
    "    conjs = class_sizes(G)\n",
    "    subgrps = subgroups(G)\n",
    "    for subgrp in subgrps:\n",
    "        for conj in conjs:\n",
    "            a = findint(conj,subgrp)\n",
    "            if a > 0:\n",
    "                b = conj.cardinality()/a\n",
    "                if round(b - round(b),6) > 0 or round(b- round(b),6) < 0:\n",
    "                    print(b, gap.IdSmallGroup(G))"
   ]
  },
  {
   "cell_type": "code",
   "execution_count": 15,
   "metadata": {},
   "outputs": [
    {
     "name": "stdout",
     "output_type": "stream",
     "text": [
      "3/2 [ 24, 13 ]\n",
      "3/2 [ 48, 30 ]\n",
      "3/2 [ 48, 31 ]\n",
      "3/2 [ 48, 31 ]\n",
      "3/2 [ 48, 31 ]\n",
      "3/2 [ 48, 32 ]\n",
      "3/2 [ 48, 33 ]\n",
      "3/2 [ 48, 48 ]\n",
      "3/2 [ 48, 48 ]\n",
      "3/2 [ 48, 48 ]\n",
      "3/2 [ 48, 49 ]\n",
      "3/2 [ 48, 49 ]\n",
      "3/2 [ 48, 49 ]\n",
      "3/2 [ 48, 49 ]\n",
      "3/2 [ 48, 49 ]\n",
      "3/2 [ 48, 49 ]\n",
      "3/2 [ 48, 49 ]\n",
      "3/2 [ 48, 49 ]\n",
      "3/2 [ 48, 49 ]\n",
      "7/3 [ 56, 11 ]\n",
      "5/2 [ 60, 5 ]\n",
      "4/3 [ 64, 32 ]\n",
      "4/3 [ 64, 32 ]\n",
      "4/3 [ 64, 138 ]\n",
      "4/3 [ 64, 138 ]\n"
     ]
    }
   ],
   "source": [
    "\"\"\"\n",
    "Result: It is not true that the quotient is always an integer. \n",
    "\n",
    "Main function\n",
    "https://www.gap-system.org/Manuals/pkg/SmallGrp-1.3/doc/chap1.html\n",
    "This works on CoCalc/non-windows system with gap_packages library installed.\"\"\"\n",
    "if __name__ == \"__main__\":\n",
    "    \"\"\"If group is in id form.\"\"\"\n",
    "    groups = small\n",
    "    for groupid in groups:\n",
    "        G = gap.SmallGroup(groupid)\n",
    "        test(PermutationGroup(gap_group = G.AsPermGroup()))"
   ]
  },
  {
   "cell_type": "code",
   "execution_count": 0,
   "metadata": {},
   "outputs": [],
   "source": []
  }
 ],
 "metadata": {
  "kernelspec": {
   "display_name": "SageMath 9.0",
   "language": "sage",
   "name": "sagemath"
  },
  "language_info": {
   "codemirror_mode": {
    "name": "ipython",
    "version": 3
   },
   "file_extension": ".py",
   "mimetype": "text/x-python",
   "name": "python",
   "nbconvert_exporter": "python",
   "pygments_lexer": "ipython3",
   "version": "3.7.3"
  }
 },
 "nbformat": 4,
 "nbformat_minor": 4
}
