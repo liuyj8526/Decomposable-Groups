{
 "cells": [
  {
   "cell_type": "code",
   "execution_count": null,
   "metadata": {},
   "outputs": [],
   "source": [
    "\"\"\"List of indices of small groups by GAP library: [x,y].\"\"\"\n",
    "small = []\n",
    "for i in range(269,300):\n",
    "    if len(gap.IdsOfAllSmallGroups(i+1)) < 150:\n",
    "        small += gap.IdsOfAllSmallGroups(i+1)\n",
    "    else:\n",
    "        print(i+1)\n",
    "# small += gap.IdsOfAllSmallGroups(96)"
   ]
  },
  {
   "cell_type": "code",
   "execution_count": null,
   "metadata": {},
   "outputs": [],
   "source": [
    "\"\"\"Test if a subgroup is frobenius\n",
    "Reference: https://www.mail-archive.com/forum@mail.gap-system.org/msg04060.html\"\"\"\n",
    "class testGrp():\n",
    "    def testFrob(self, G):\n",
    "        fit = G.fitting_subgroup()\n",
    "        if fit.order() == 1 or fit.order() == G.order():\n",
    "            return False\n",
    "        reps = gap.ComplementClassesRepresentatives(G,fit)\n",
    "        if len(reps) != 1:\n",
    "            return False\n",
    "        test_elem = fit.list()\n",
    "        elem = G.list()\n",
    "        for rep in reps:\n",
    "            frob = True\n",
    "            perm_group = PermutationGroup(gap_group = rep.AsPermGroup())\n",
    "            target = perm_group.order()\n",
    "            elem_gen = fit.list()\n",
    "            elem_gen += perm_group.list()\n",
    "            for g in test_elem[1:]:\n",
    "                conj = perm_group.conjugate(g)\n",
    "                intt = perm_group.intersection(conj)\n",
    "                if (intt.order() == 1 or intt.order() == target) == False:\n",
    "                    frob = False\n",
    "                elem_gen += conj.list()\n",
    "            for g in elem:\n",
    "                if g not in elem_gen:\n",
    "                    frob = False\n",
    "            if frob == True:\n",
    "                return True\n",
    "        return False\n",
    "\"\"\"Test if a group as nontrivial center\"\"\"    \n",
    "    def testCenter(self, G):\n",
    "        if G.center().order() >1:\n",
    "            return True\n",
    "        return False"
   ]
  },
  {
   "cell_type": "code",
   "execution_count": null,
   "metadata": {},
   "outputs": [],
   "source": [
    "if __name__ == \"__main__\":\n",
    "    test = testGrp()\n",
    "    groups = small\n",
    "    for groupid in groups:\n",
    "        G = gap.SmallGroup(groupid)\n",
    "        try:\n",
    "            result = test.testFrob(PermutationGroup(gap_group = G.AsPermGroup()))\n",
    "            if result == True:\n",
    "                print(str(gap.IdSmallGroup(G)[1]) + \",\" + str(gap.IdSmallGroup(G)[2]))\n",
    "        except:\n",
    "            pass"
   ]
  }
 ],
 "metadata": {
  "kernelspec": {
   "display_name": "SageMath 9.0",
   "language": "sage",
   "name": "sagemath"
  },
  "language_info": {
   "codemirror_mode": {
    "name": "ipython",
    "version": 3
   },
   "file_extension": ".py",
   "mimetype": "text/x-python",
   "name": "python",
   "nbconvert_exporter": "python",
   "pygments_lexer": "ipython3",
   "version": "3.7.3"
  }
 },
 "nbformat": 4,
 "nbformat_minor": 2
}
